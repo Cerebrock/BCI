{
 "cells": [
  {
   "cell_type": "markdown",
   "metadata": {
    "hideCode": false,
    "hidePrompt": false,
    "slideshow": {
     "slide_type": "slide"
    }
   },
   "source": [
    "# BCI\n",
    "\n",
    "- python C:\\Users\\MATIAS\\Desktop\\EEG\\Mindjam\\CyKit\\Py3\\CyKIT.py 127.0.0.1 54123 6 pywinusb\n",
    "- C:\\Users\\MATIAS\\Desktop\\EEG\\Mindjam\\CyKit\\Web\\CyKIT.html"
   ]
  },
  {
   "cell_type": "code",
   "execution_count": 4,
   "metadata": {
    "hideCode": false,
    "hidePrompt": false,
    "slideshow": {
     "slide_type": "slide"
    }
   },
   "outputs": [],
   "source": [
    "import os; os.chdir(r'./CyKit/Py3') \n",
    "os.environ[\"CUDA_VISIBLE_DEVICES\"]=\"-1\"\n",
    "import sys"
   ]
  },
  {
   "cell_type": "raw",
   "metadata": {
    "hideCode": false,
    "hidePrompt": false,
    "slideshow": {
     "slide_type": "slide"
    }
   },
   "source": [
    "import cyPyWinUSB as hid"
   ]
  },
  {
   "cell_type": "code",
   "execution_count": 5,
   "metadata": {},
   "outputs": [],
   "source": [
    "#import pyhidapi as hid"
   ]
  },
  {
   "cell_type": "code",
   "execution_count": 6,
   "metadata": {
    "hideCode": false,
    "hidePrompt": false,
    "slideshow": {
     "slide_type": "slide"
    }
   },
   "outputs": [],
   "source": [
    "import queue\n",
    "#from cyCrypto.Cipher import AES\n",
    "from cyCrypto import Random\n",
    "import threading\n",
    "import pickle"
   ]
  },
  {
   "cell_type": "code",
   "execution_count": 7,
   "metadata": {
    "hideCode": false,
    "hidePrompt": false,
    "slideshow": {
     "slide_type": "slide"
    }
   },
   "outputs": [],
   "source": [
    "from ctypes import Structure, c_long, byref\n",
    "import ctypes"
   ]
  },
  {
   "cell_type": "code",
   "execution_count": 8,
   "metadata": {
    "hideCode": false,
    "hidePrompt": false,
    "slideshow": {
     "slide_type": "slide"
    }
   },
   "outputs": [
    {
     "name": "stderr",
     "output_type": "stream",
     "text": [
      "/home/matias/anaconda3/envs/mindjam/lib/python3.7/site-packages/sklearn/externals/joblib/__init__.py:15: DeprecationWarning: sklearn.externals.joblib is deprecated in 0.21 and will be removed in 0.23. Please import this functionality directly from joblib, which can be installed with: pip install joblib. If this warning is raised when loading pickled models, you may need to re-serialize those models with scikit-learn 0.21+.\n",
      "  warnings.warn(msg, category=DeprecationWarning)\n"
     ]
    },
    {
     "data": {
      "text/html": [],
      "text/plain": [
       "<IPython.core.display.HTML object>"
      ]
     },
     "metadata": {},
     "output_type": "display_data"
    }
   ],
   "source": [
    "from pyriemann.stats import pairwise_distance\n",
    "from pyriemann.estimation import Covariances\n",
    "from sklearn.manifold import TSNE\n",
    "\n",
    "import numpy as np\n",
    "import pandas as pd\n",
    "from collections import deque\n",
    "from time import sleep\n",
    "from IPython.display import clear_output\n",
    "from IPython.display import Audio, display\n",
    "\n",
    "import scipy.signal\n",
    "import matplotlib.pyplot as plt\n",
    "import seaborn as sns\n",
    "sns.set()\n",
    "import pickle\n",
    "\n",
    "import jupyter_beeper\n",
    "import warnings\n",
    "warnings.simplefilter(action='ignore', category=FutureWarning)\n",
    "warnings.simplefilter(action='ignore', category=DeprecationWarning)\n",
    "b = jupyter_beeper.Beeper()"
   ]
  },
  {
   "cell_type": "code",
   "execution_count": 9,
   "metadata": {
    "hideCode": false,
    "hidePrompt": false,
    "slideshow": {
     "slide_type": "slide"
    }
   },
   "outputs": [],
   "source": [
    "class POINT(Structure):\n",
    "    _fields_ = [(\"x\", c_long), (\"y\", c_long)]\n",
    "\n",
    "class WinMouse:\n",
    "    def __init__(self):\n",
    "        user32 = ctypes.windll.user32\n",
    "        self.width = user32.GetSystemMetrics(0)\n",
    "        self.height = user32.GetSystemMetrics(1)\n",
    "\n",
    "    def click(self, x, y):\n",
    "        ctypes.windll.user32.SetCursorPos(x, y)\n",
    "        ctypes.windll.user32.mouse_event(2, 0, 0, 0, 0) # left down\n",
    "        ctypes.windll.user32.mouse_event(4, 0, 0, 0, 0) # left up\n",
    "\n",
    "    def move_mouse(self, x, y):\n",
    "        ctypes.windll.user32.SetCursorPos(x, y)\n",
    "    \n",
    "    @staticmethod\n",
    "    def get_mouse_position():\n",
    "        pt = POINT()\n",
    "        windll.user32.GetCursorPos(byref(pt))\n",
    "        return pt.x, pt.y\n",
    "        \n",
    "class BluetoothIO(threading.Thread):\n",
    "    def __init__(self, eeg_queue, gyro_queue):\n",
    "        super().__init__()\n",
    "        self.hid = None\n",
    "        self.delimiter = \", \"\n",
    "        self.eeg_queue = eeg_queue\n",
    "        self.gyro_queue = gyro_queue\n",
    "        devicesUsed = 0\n",
    "    \n",
    "        for device in hid.find_all_hid_devices():\n",
    "            if device.product_name == 'EEG Signals':\n",
    "                devicesUsed += 1\n",
    "                self.hid = device\n",
    "                self.hid.open()\n",
    "                self.serial_number = device.serial_number\n",
    "                device.set_raw_data_handler(self.dataHandler)                   \n",
    "        if devicesUsed == 0:\n",
    "            os._exit(0)\n",
    "        sn = self.serial_number\n",
    "        \n",
    "        # EPOC+ in 16-bit Mode.\n",
    "        k = ['\\0'] * 16\n",
    "        k = [sn[-1],sn[-2],sn[-2],sn[-3],sn[-3],sn[-3],sn[-2],sn[-4],sn[-1],sn[-4],sn[-2],sn[-2],sn[-4],sn[-4],sn[-2],sn[-1]]\n",
    "        \n",
    "        # EPOC+ in 14-bit Mode.\n",
    "        #k = [sn[-1],00,sn[-2],21,sn[-3],00,sn[-4],12,sn[-3],00,sn[-2],68,sn[-1],00,sn[-2],88]\n",
    "        \n",
    "        self.key = str(''.join(k))\n",
    "        self.cipher = AES.new(self.key.encode(\"utf8\"), AES.MODE_ECB)\n",
    "\n",
    "    def dataHandler(self, data):\n",
    "        join_data = ''.join(map(chr, data[1:]))\n",
    "        data = self.cipher.decrypt(bytes(join_data,'latin-1')[0:32])\n",
    "        \n",
    "        if str(data[1]) == \"16\":\n",
    "            self.eeg_queue.append(data)                \n",
    "        elif str(data[1]) == \"32\": \n",
    "            self.gyro_queue.append(data)\n",
    "        \n",
    "    #self.cyIO.sendData(1, str(data[0]) + packet_data)\n",
    "    #continue\n",
    "    \n",
    "class EEG():\n",
    "    def __init__(self, eeg_queue, gyro_queue):\n",
    "        super().__init__()\n",
    "        self.eeg_queue = eeg_queue\n",
    "        self.gyro_queue = gyro_queue\n",
    "        self.delimiter = ', '\n",
    "        \n",
    "    def convertEPOC_PLUS(self, value_1, value_2):\n",
    "        edk_value = \"%.8f\" % (((int(value_1) * .128205128205129) + 4201.02564096001) + ((int(value_2) -128) * 32.82051289))\n",
    "        return edk_value\n",
    "       \n",
    "    def convertEPOC_PLUS_Gyro(self, value_1, value_2): \n",
    "        edk_value = \"%.8f\" % ((8192.0 + (int(value_1) * 1)) + ((int(value_2) - 128) * 64))   \n",
    "        return edk_value\n",
    "    \n",
    "    def get_gyro(self, n):\n",
    "        buffer = []\n",
    "        c = 0 \n",
    "        while c < n:\n",
    "            try:\n",
    "                data = self.gyro_queue.popleft()\n",
    "            except IndexError:\n",
    "                sleep(0.001)\n",
    "                continue\n",
    "            try:\n",
    "                packet_data = \"\"\n",
    "                for i in range(2,16,2):\n",
    "                    packet_data = packet_data + str(self.convertEPOC_PLUS_Gyro(str(data[i]), str(data[i+1]))) + self.delimiter\n",
    "\n",
    "                for i in range(18,len(data),2):\n",
    "                    packet_data = packet_data + str(self.convertEPOC_PLUS_Gyro(str(data[i]), str(data[i+1]))) + self.delimiter\n",
    "\n",
    "                packet_data = packet_data[:-len(self.delimiter)]\n",
    "                buffer.append([float(x) for x in packet_data.split(', ')])                \n",
    "            except Exception as exception2:\n",
    "                print(str(exception2))\n",
    "            c += 1\n",
    "        return np.array(buffer)\n",
    "\n",
    "    def get_data(self, n):\n",
    "        buffer = []\n",
    "        c = 0\n",
    "        while c < n:\n",
    "            try:\n",
    "                data = self.eeg_queue.popleft()\n",
    "            except IndexError:\n",
    "                sleep(0.001)\n",
    "                continue\n",
    "            try:\n",
    "                packet_data = \"\"\n",
    "                for i in range(2,16,2):\n",
    "                    packet_data = packet_data + str(self.convertEPOC_PLUS(str(data[i]), str(data[i+1]))) + self.delimiter\n",
    "                for i in range(18,len(data),2):\n",
    "                    packet_data = packet_data + str(self.convertEPOC_PLUS(str(data[i]), str(data[i+1]))) + self.delimiter\n",
    "\n",
    "                packet_data = packet_data[:-len(self.delimiter)]\n",
    "                buffer.append([float(x) for x in packet_data.split(', ')])                \n",
    "            except Exception as exception2:\n",
    "                print(str(exception2))\n",
    "            c += 1\n",
    "        return np.array(buffer)\n",
    "    \n",
    "def butter_bandpass(lowcut, highcut, fs, order=5):\n",
    "    #https://github.com/faturita/python-nerv/blob/master/OfflineFeatureAnalysis3.py\n",
    "    nyq = 0.5 * fs\n",
    "    low = lowcut / nyq\n",
    "    high = highcut / nyq\n",
    "    b, a = butter(order, [low, high], btype='band')\n",
    "    return b, a\n",
    "\n",
    "def butter_bandpass_filter(data, lowcut, highcut, fs, order=5):\n",
    "    b, a = butter_bandpass(lowcut, highcut, fs, order=order)\n",
    "    y = lfilter(b, a, data)\n",
    "    return y\n",
    "\n",
    "def plot_welch(t, canal = 0):\n",
    "    f, pxx = scipy.signal.welch(t[:,canal], fs = 44100)\n",
    "    plt.plot(f, pxx)\n",
    "    plt.xlim(0, 10000)\n",
    "    plt.xlabel('Frecuencias')\n",
    "\n",
    "def plot_multiple(w, fs = 256):\n",
    "    '''Plotea primero la onda en dominio de tiempo, luego el espectro (FFT) y luego el espectrograma'''\n",
    "    \n",
    "    #Creo el espacio para plotear, una \"figura\" vacia\n",
    "    plt.figure(figsize=(15,15))\n",
    "\n",
    "    #Dividido en 3 filas y 1 columna, ploteo la onda en el 1er espacio\n",
    "    plt.subplot(3, 1, 1)\n",
    "    plt.plot(w)\n",
    "    \n",
    "    #Pongo titulo al eje y\n",
    "    plt.ylabel('Amplitude')\n",
    "    #Grilla de fondo\n",
    "    plt.grid()\n",
    "    \n",
    "    #FFT\n",
    "    #n = len(w) = duración * framerate\n",
    "    n = len(w)\n",
    "    Y = np.fft.rfft(w) / n \n",
    "    freqs = np.fft.fftfreq(n, d= 1/44100)\n",
    "    \n",
    "    #Plot FFT\n",
    "    plt.subplot(3, 1, 2)\n",
    "    #Ploteo las frecuencias positivas y sus valores, con un color RGBA\n",
    "    plt.plot(freqs[:10000], abs(Y[:10000]), c = [0.9, 0.2, 0.1, 0.8])\n",
    "    plt.xlabel('Freq (Hz)')\n",
    "    \n",
    "    #Marco en el eje X ciertos valores incluyendo la frecuencia de máximo valor\n",
    "    plt.xticks(np.sort(np.append(freqs[:10000:1000], freqs[np.argmax(abs(Y[:10000]))])), rotation = 60)\n",
    "    plt.ylabel('|Y(freq)|')\n",
    "\n",
    "    #Espectrograma\n",
    "    plt.subplot(3, 1, 3)\n",
    "    Pxx, freqs, bins, im = plt.specgram(w, Fs=fs, noverlap=10, cmap= 'coolwarm')\n",
    "    plt.ylim(0, 8000)\n",
    "    plt.ylabel('Freq')\n",
    "    plt.xlabel('Time')\n",
    "    plt.show()\n",
    "    \n",
    "def do_fft(data, fs = 256):\n",
    "    # Get real amplitudes of FFT (only in postive frequencies)\n",
    "    fft_vals = np.absolute(np.fft.rfft(data))\n",
    "\n",
    "    # Get frequencies for amplitudes in Hz\n",
    "    fft_freq = np.fft.rfftfreq(len(data), 1.0/fs)\n",
    "\n",
    "    eeg_bands = {'Delta': (0, 4),\n",
    "                 'Theta': (4, 8),\n",
    "                 'Alpha': (8, 12),\n",
    "                 'Beta': (12, 30),\n",
    "                 'Gamma': (30, 45)}\n",
    "\n",
    "    # Take the mean of the fft amplitude for each EEG band\n",
    "    eeg_band_fft = dict()\n",
    "    for band in eeg_bands:  \n",
    "        freq_ix = np.where((fft_freq >= eeg_bands[band][0]) & \n",
    "                           (fft_freq <= eeg_bands[band][1]))[0]\n",
    "        eeg_band_fft[band] = np.mean(fft_vals[freq_ix])\n",
    "    return eeg_band_fft\n",
    "        \n",
    "def plot_bands(eeg_bands):\n",
    "    df = pd.DataFrame(columns=['band', 'val'])\n",
    "    df['band'] = eeg_bands.keys()\n",
    "    df['val'] = [eeg_bands[band] for band in eeg_bands]\n",
    "    ax = df.plot.bar(x='band', y='val', legend=False)\n",
    "    ax.set_xlabel(\"EEG band\")\n",
    "    ax.set_ylabel(\"Mean band Amplitude\") "
   ]
  },
  {
   "cell_type": "code",
   "execution_count": 10,
   "metadata": {
    "hideCode": false,
    "hidePrompt": false,
    "slideshow": {
     "slide_type": "slide"
    }
   },
   "outputs": [],
   "source": [
    "# vamos a recolectar 20 datos de 2 segundos para cada acción\n",
    "\n",
    "acciones = 2\n",
    "s = 2\n",
    "n = 120\n",
    "electrodos = 'F3 FC5 AF3 F7 T7 P7 O1 O2 P8 T8 F8 AF4 FC6 F4'.split()\n",
    "muestreo = 128\n",
    "n_paquetes = s * muestreo"
   ]
  },
  {
   "cell_type": "raw",
   "metadata": {
    "hideCode": false,
    "hidePrompt": false,
    "slideshow": {
     "slide_type": "slide"
    }
   },
   "source": [
    "# donde vamos guardando los datos\n",
    "EEG_datos = deque(maxlen=muestreo*1)\n",
    "GYRO_datos = deque(maxlen=muestreo*1)\n",
    "\n",
    "bt = BluetoothIO(EEG_datos, GYRO_datos)\n",
    "eeg = EEG(EEG_datos, GYRO_datos)\n",
    "\n",
    "mouse = WinMouse()\n",
    "w,h = mouse.width, mouse.height"
   ]
  },
  {
   "cell_type": "raw",
   "metadata": {
    "hideCode": false,
    "hidePrompt": false,
    "slideshow": {
     "slide_type": "slide"
    }
   },
   "source": [
    "datos = eeg.get_data(muestreo * 2)\n",
    "datos = datos - datos.mean(0)"
   ]
  },
  {
   "cell_type": "raw",
   "metadata": {
    "slideshow": {
     "slide_type": "slide"
    }
   },
   "source": [
    "datos = eeg.get_data(muestreo * 0.5)\n",
    "fig, axes = plt.subplots(len(electrodos), 1, figsize = (20, int(len(electrodos)*1.5)))\n",
    "\n",
    "for p in range(len(electrodos)):\n",
    "    axes[p].plot(datos[:,p])"
   ]
  },
  {
   "cell_type": "raw",
   "metadata": {},
   "source": [
    "but = butter_bandpass_filter(datos, 8.0, 15.0, muestreo, order=6)\n",
    "freqs = np.abs(fft(datos)[0:muestreo//2])"
   ]
  },
  {
   "cell_type": "markdown",
   "metadata": {
    "hideCode": false,
    "hidePrompt": false,
    "slideshow": {
     "slide_type": "slide"
    }
   },
   "source": [
    "<img src=\"https://www.researchgate.net/publication/329568433/figure/fig3/AS:702680376827906@1544543465572/The-electrode-locations-of-the-14-channel-Emotiv-EEG-headset.ppm\" width=\"300\"/>"
   ]
  },
  {
   "cell_type": "raw",
   "metadata": {
    "hideCode": false,
    "hideOutput": true,
    "hidePrompt": false,
    "slideshow": {
     "slide_type": "slide"
    }
   },
   "source": [
    "# Ponerse el Emotiv y prepararse para realizar 2 acciones elegidas\n",
    "\n",
    "X = []\n",
    "\n",
    "for a in range(1, acciones+1):\n",
    "    \n",
    "    print(f'*'*10)\n",
    "    print(f' Acción {a} en 5...')\n",
    "    print(f'*'*10)\n",
    "    sleep(5)\n",
    "    b.beep(frequency=440, secs=0.25, blocking=True)\n",
    "    \n",
    "    for i in range(n):\n",
    "        dato = eeg.get_data(muestreo * s)\n",
    "        X.append(dato)\n",
    "        print(i, end=' ')\n",
    "    \n",
    "    print('\\n')\n",
    "    b.beep(frequency=440, secs=0.25, blocking=True)\n",
    "    b.beep(frequency=530, secs=0.5, blocking=True)\n",
    "\n",
    "print(f'*'*10)\n",
    "print(f' Terminado!')\n",
    "print(f'*'*10)"
   ]
  },
  {
   "cell_type": "code",
   "execution_count": 11,
   "metadata": {},
   "outputs": [],
   "source": [
    "from scipy.fftpack import fft\n",
    "from scipy.signal import firwin, remez, kaiser_atten, kaiser_beta\n",
    "from scipy.signal import butter, lfilter\n",
    "\n",
    "from pyriemann.estimation import XdawnCovariances, Covariances\n",
    "from pyriemann.tangentspace import TangentSpace\n",
    "from pyriemann.utils.viz import plot_confusion_matrix\n",
    "from pyriemann.classification import MDM, TSclassifier\n",
    "from pyriemann.estimation import Covariances\n",
    "\n",
    "\n",
    "from catboost import CatBoostClassifier\n",
    "from sklearn.metrics import accuracy_score\n",
    "from sklearn.pipeline import make_pipeline\n",
    "from sklearn.neighbors import KNeighborsClassifier\n",
    "from sklearn.ensemble import GradientBoostingClassifier, RandomForestClassifier, BaggingClassifier\n",
    "from sklearn.linear_model import LogisticRegression\n",
    "from sklearn.gaussian_process import GaussianProcessClassifier\n",
    "from sklearn.naive_bayes import GaussianNB\n",
    "from sklearn.model_selection import train_test_split, cross_val_score, KFold"
   ]
  },
  {
   "cell_type": "code",
   "execution_count": 12,
   "metadata": {},
   "outputs": [],
   "source": [
    "from xgboost import XGBClassifier\n",
    "from lightgbm import LGBMClassifier\n",
    "from vecstack import stacking, StackingTransformer"
   ]
  },
  {
   "cell_type": "code",
   "execution_count": 13,
   "metadata": {
    "hideCode": false,
    "hideOutput": true,
    "hidePrompt": false,
    "slideshow": {
     "slide_type": "slide"
    }
   },
   "outputs": [],
   "source": [
    "#with open('X.pkl', 'wb') as f:\n",
    "#    pickle.dump(X, f)\n",
    "with open('X.pkl', 'rb') as f:\n",
    "    X = pickle.load(f)"
   ]
  },
  {
   "cell_type": "code",
   "execution_count": 14,
   "metadata": {
    "hideCode": false,
    "hidePrompt": false,
    "slideshow": {
     "slide_type": "slide"
    }
   },
   "outputs": [],
   "source": [
    "r = np.random.permutation(np.arange(0, len(X)))\n",
    "X = np.array(X)[r]\n",
    "y = np.concatenate([np.zeros(n), np.ones(n)])[r]"
   ]
  },
  {
   "cell_type": "code",
   "execution_count": 15,
   "metadata": {},
   "outputs": [],
   "source": [
    "for i in range(X.shape[2]):\n",
    "    X[:, i] = X[:, i] - X[:, i].mean()\n",
    "#    X[:, i] = butter_bandpass_filter(X[:, i], 8.0, 15.0, muestreo, order=4)"
   ]
  },
  {
   "cell_type": "code",
   "execution_count": 16,
   "metadata": {
    "hideOutput": true,
    "slideshow": {
     "slide_type": "slide"
    }
   },
   "outputs": [
    {
     "data": {
      "text/plain": [
       "((192, 256, 14), (48, 256, 14))"
      ]
     },
     "execution_count": 16,
     "metadata": {},
     "output_type": "execute_result"
    }
   ],
   "source": [
    "#(trials, channels, samples)\n",
    "X_train, X_test, y_train, y_test = train_test_split(X, y, test_size=0.2, shuffle=True, stratify=y)\n",
    "X_train.shape, X_test.shape"
   ]
  },
  {
   "cell_type": "code",
   "execution_count": 17,
   "metadata": {},
   "outputs": [],
   "source": [
    "#EXPLOTA LA PC\n",
    "#https://github.com/vlawhern/arl-eegmodels/blob/master/examples/ERP.py\n",
    "#from EEGModels import EEGNet\n",
    "#from keras.utils import to_categorical\n",
    "#y_binary = to_categorical(y_train)\n",
    "#predicted = model.predict(...)\n",
    "#https://github.com/vlawhern/arl-eegmodels\n",
    "#model = EEGNet(2, Chans=14, Samples=256)\n",
    "#model.compile(loss = 'categorical_crossentropy', optimizer = 'adam')\n",
    "#fittedModel = model.fit(X_train.transpose(0,2,1)[:, np.newaxis,:,  :, ], y_binary)"
   ]
  },
  {
   "cell_type": "code",
   "execution_count": 18,
   "metadata": {},
   "outputs": [],
   "source": [
    "n_components = 5\n",
    "tran = make_pipeline(Covariances(), \n",
    "                    XdawnCovariances(n_components),\n",
    "                    TangentSpace(metric='riemann'),\n",
    "                    )"
   ]
  },
  {
   "cell_type": "code",
   "execution_count": 19,
   "metadata": {},
   "outputs": [],
   "source": [
    "tran.fit(X_train, y_train)\n",
    "X_train = tran.transform(X_train)\n",
    "X_test = tran.transform(X_test)"
   ]
  },
  {
   "cell_type": "code",
   "execution_count": 20,
   "metadata": {},
   "outputs": [],
   "source": [
    "models = [\n",
    "        ('lr', LogisticRegression()),\n",
    "        ('knn', KNeighborsClassifier(n_neighbors=15)),\n",
    "        ('rf', RandomForestClassifier()), \n",
    "        ('xgb', XGBClassifier(max_depth=15, n_estimators=200)),\n",
    "        ('gbm', LGBMClassifier()), \n",
    "        #('gp', GaussianProcessClassifier()), \n",
    "        ('gnb', GaussianNB()),\n",
    "        ]"
   ]
  },
  {
   "cell_type": "code",
   "execution_count": 21,
   "metadata": {},
   "outputs": [
    {
     "name": "stdout",
     "output_type": "stream",
     "text": [
      "lr: Accuracy: 0.83 (0.50 chance) | Cross val acc: 0.95\n",
      "knn: Accuracy: 0.79 (0.50 chance) | Cross val acc: 0.92\n",
      "rf: Accuracy: 0.79 (0.50 chance) | Cross val acc: 0.89\n",
      "xgb: Accuracy: 0.92 (0.50 chance) | Cross val acc: 0.96\n",
      "gbm: Accuracy: 0.92 (0.50 chance) | Cross val acc: 0.95\n",
      "gnb: Accuracy: 0.85 (0.50 chance) | Cross val acc: 0.95\n"
     ]
    }
   ],
   "source": [
    "probs = []\n",
    "for i in range(len(models)):\n",
    "    model = models[i][1]\n",
    "    model.fit(X_train, y_train)\n",
    "    \n",
    "    preds = model.predict(X_test)\n",
    "    class_balance = np.mean(y_test == y_test[0])\n",
    "    class_balance = max(class_balance, 1. - class_balance)\n",
    "    score = cross_val_score(model, tran.transform(X), y, cv=5)\n",
    "    print(f\"{models[i][0]}: Accuracy: {np.mean(preds == y_test):.2f} ({class_balance:.2f} chance) | Cross val acc: {np.mean(score):.2f}\")\n",
    "    probs.append(model.predict_proba(X_test)[:,0])"
   ]
  },
  {
   "cell_type": "code",
   "execution_count": 22,
   "metadata": {},
   "outputs": [],
   "source": [
    "probs_df = pd.DataFrame(probs).T\n",
    "probs_df.columns = [n[0] for n in models]"
   ]
  },
  {
   "cell_type": "code",
   "execution_count": 23,
   "metadata": {},
   "outputs": [
    {
     "data": {
      "image/png": "[encoded data removed]",
      "text/plain": [
       "<Figure size 1368x360 with 3 Axes>"
      ]
     },
     "metadata": {
      "needs_background": "light"
     },
     "output_type": "display_data"
    }
   ],
   "source": [
    "from scipy.stats import spearmanr\n",
    "cols = probs_df.columns\n",
    "corrs, ps = spearmanr(probs_df.values)\n",
    "\n",
    "fig, ax = plt.subplots(1,2,figsize=(19,5))\n",
    "\n",
    "sns.heatmap(corrs, cmap='Blues', ax=ax[0], cbar=False, annot=True, linewidths=1, annot_kws={\"size\": 20})\n",
    "ax[0].set_title('Tamaño de efecto, r Spearman')\n",
    "ax[0].set_yticklabels(cols, rotation=30)\n",
    "ax[0].set_xticklabels(cols, rotation=30)\n",
    "\n",
    "sns.heatmap(ps, cmap='Blues_r', ax=ax[1], annot=True, linewidths=1, fmt='.3f', annot_kws={\"size\": 20});\n",
    "ax[1].set_title('P-Valor');\n",
    "ax[1].set_yticklabels([])\n",
    "ax[1].set_xticklabels(cols, rotation=30)\n",
    "\n",
    "plt.tight_layout()"
   ]
  },
  {
   "cell_type": "code",
   "execution_count": 24,
   "metadata": {},
   "outputs": [],
   "source": [
    "stack = StackingTransformer(models, regression=False, verbose=0, n_folds=5, random_state=0)\n",
    "stack = stack.fit(X_train, y_train)"
   ]
  },
  {
   "cell_type": "code",
   "execution_count": 25,
   "metadata": {},
   "outputs": [],
   "source": [
    "S_train = stack.transform(X_train)\n",
    "S_test = stack.transform(X_test)"
   ]
  },
  {
   "cell_type": "code",
   "execution_count": 26,
   "metadata": {},
   "outputs": [],
   "source": [
    "final = LogisticRegression()\n",
    "final = final.fit(S_train, y_train)\n",
    "preds = final.predict(S_test)"
   ]
  },
  {
   "cell_type": "code",
   "execution_count": 27,
   "metadata": {},
   "outputs": [
    {
     "name": "stdout",
     "output_type": "stream",
     "text": [
      "Stacking accuracy: 0.92 (0.50 chance) | Cross val acc: 0.95\n"
     ]
    }
   ],
   "source": [
    "class_balance = np.mean(y_test == y_test[0])\n",
    "class_balance = max(class_balance, 1. - class_balance)\n",
    "score = cross_val_score(final, tran.transform(X), y, cv=5)\n",
    "print(f\"Stacking accuracy: {np.mean(preds == y_test):.2f} ({class_balance:.2f} chance) | Cross val acc: {np.mean(score):.2f}\")    "
   ]
  },
  {
   "cell_type": "code",
   "execution_count": 28,
   "metadata": {},
   "outputs": [
    {
     "data": {
      "image/png": "[encoded data removed]",
      "text/plain": [
       "<Figure size 432x288 with 2 Axes>"
      ]
     },
     "metadata": {
      "needs_background": "light"
     },
     "output_type": "display_data"
    }
   ],
   "source": [
    "plot_confusion_matrix(preds, y_test, ['A', 'B']);"
   ]
  },
  {
   "cell_type": "code",
   "execution_count": null,
   "metadata": {
    "hideOutput": true,
    "slideshow": {
     "slide_type": "slide"
    }
   },
   "outputs": [],
   "source": [
    "t = 100\n",
    "step = 20\n",
    "mouse.move_mouse(w//2, h//2)\n",
    "for n in range(t):\n",
    "    x, y = mouse.get_mouse_position()\n",
    "    \n",
    "    dato = eeg.get_data(muestreo * s)\n",
    "    prob = clasificador.predict_proba(np.array([dato]))[0][0]\n",
    "        \n",
    "    if prob > 0.9:\n",
    "        print(f'*'*10)\n",
    "        print(f' Acción 1')\n",
    "        print(f'*'*10)\n",
    "        mouse.move_mouse(x, y+step)\n",
    "        b.beep(frequency=880, secs=0.25, blocking=True)\n",
    "    \n",
    "    elif prob < 0.1:\n",
    "        print(f'*'*10)\n",
    "        print(f' Acción 2')\n",
    "        print(f'*'*10)\n",
    "        mouse.move_mouse(x, y-step)        \n",
    "        b.beep(frequency=440, secs=0.25, blocking=True)\n",
    "    \n",
    "    if n % 20 == 0:\n",
    "        mouse.move_mouse(w//2, h//2)\n",
    "    clear_output()  \n",
    "    \n",
    "    print('\\n')\n",
    "    sleep(1)"
   ]
  },
  {
   "cell_type": "code",
   "execution_count": null,
   "metadata": {},
   "outputs": [],
   "source": []
  },
  {
   "cell_type": "code",
   "execution_count": 29,
   "metadata": {},
   "outputs": [],
   "source": [
    "# plot"
   ]
  },
  {
   "cell_type": "raw",
   "metadata": {
    "hideCode": false,
    "hideOutput": true,
    "hidePrompt": false,
    "slideshow": {
     "slide_type": "slide"
    }
   },
   "source": [
    "s = 60\n",
    "data = eeg.get_data(muestreo * s)"
   ]
  },
  {
   "cell_type": "code",
   "execution_count": 31,
   "metadata": {},
   "outputs": [
    {
     "data": {
      "text/plain": [
       "(240,)"
      ]
     },
     "execution_count": 31,
     "metadata": {},
     "output_type": "execute_result"
    }
   ],
   "source": [
    "arr = X[:,0,0]\n",
    "arr.shape"
   ]
  },
  {
   "cell_type": "raw",
   "metadata": {
    "hideCode": false,
    "hidePrompt": false,
    "slideshow": {
     "slide_type": "slide"
    }
   },
   "source": [
    "fig, ax1 = plt.subplots(1, 1, figsize=(8, 4))\n",
    "P, freqs, t, im = plt.specgram(arr, NFFT=128, Fs=128, noverlap = 64, cmap=plt.cm.jet)\n",
    "ax1.set_title('Short-Time Fourier Transform', fontsize=18)\n",
    "ax1.set_xlabel('Time [s]')\n",
    "ax1.set_ylabel('Frequency [Hz]')\n",
    "ax1.set_xlim(t[0], t[-1])\n",
    "plt.tight_layout()"
   ]
  },
  {
   "cell_type": "raw",
   "metadata": {
    "hideCode": false,
    "hideOutput": true,
    "hidePrompt": false,
    "slideshow": {
     "slide_type": "slide"
    }
   },
   "source": [
    "from mpl_toolkits.mplot3d import Axes3D\n",
    "%matplotlib notebook\n",
    "\n",
    "t2, freqs2 = np.meshgrid(t, freqs)\n",
    "\n",
    "fig = plt.figure(figsize=(10, 6))\n",
    "ax = fig.gca(projection='3d')\n",
    "surf = ax.plot_surface(t2, freqs2, P, rstride=1, cstride=1, cmap=plt.cm.jet,\n",
    "                       linewidth=0, antialiased=False)\n",
    "\n",
    "#ax.set_xlim(t[0], t[-1])\n",
    "#ax.set_ylim(0, 500)\n",
    "#ax.set_zlim(np.min(P), np.max(P))\n",
    "ax.set_xlabel('Time [s]', fontsize=12)\n",
    "ax.set_ylabel('Frequency [Hz]', fontsize=12)\n",
    "ax.set_zlabel('Power', fontsize=12)\n",
    "ax.set_title('Short-Time Fourier Transform', fontsize=16, y=1.04)\n",
    "ax.view_init(30, 60)"
   ]
  },
  {
   "cell_type": "raw",
   "metadata": {},
   "source": [
    "import time\n",
    "import psutil|\n",
    "import matplotlib.pyplot as plt\n",
    "\n",
    "%matplotlib notebook\n",
    "plt.rcParams['animation.html'] = 'jshtml'\n",
    "fig = plt.figure()\n",
    "ax = fig.add_subplot(111)\n",
    "fig.show()\n",
    "\n",
    "i = 0\n",
    "x, y = [], []\n",
    "\n",
    "for i in range(100):\n",
    "    x.append(i)\n",
    "    y.append(psutil.cpu_percent())\n",
    "    \n",
    "    ax.plot(x, y, color='b')\n",
    "    \n",
    "    fig.canvas.draw()\n",
    "    \n",
    "    ax.set_xlim(left=max(0, i-50), right=i+50)\n",
    "    \n",
    "    time.sleep(0.01)\n",
    "    i += 1\n",
    "plt.close()"
   ]
  },
  {
   "cell_type": "code",
   "execution_count": null,
   "metadata": {},
   "outputs": [],
   "source": []
  }
 ],
 "metadata": {
  "hide_code_all_hidden": false,
  "kernelspec": {
   "display_name": "mindjam",
   "language": "python",
   "name": "mindjam"
  },
  "language_info": {
   "codemirror_mode": {
    "name": "ipython",
    "version": 3
   },
   "file_extension": ".py",
   "mimetype": "text/x-python",
   "name": "python",
   "nbconvert_exporter": "python",
   "pygments_lexer": "ipython3",
   "version": "3.7.4"
  }
 },
 "nbformat": 4,
 "nbformat_minor": 4
}
