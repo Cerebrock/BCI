{
 "cells": [
  {
   "cell_type": "code",
   "execution_count": 8,
   "metadata": {},
   "outputs": [],
   "source": [
    "#Procesamiento en tiempo real de EPOC+"
   ]
  },
  {
   "cell_type": "raw",
   "metadata": {},
   "source": [
    "Env con python 2.7, 32-bits. Packs: pycryptodome\n",
    "thanks \n",
    "https://github.com/nadzeri/Realtime-EEG-Based-Emotion-Recognition/blob/master/Realtime%20Emotion%20Processing/realtime-emotion.py\n",
    "https://stackoverflow.com/questions/3185261/python-threading-and-queues-for-infinite-data-input-stream"
   ]
  },
  {
   "cell_type": "code",
   "execution_count": 1,
   "metadata": {},
   "outputs": [
    {
     "name": "stdout",
     "output_type": "stream",
     "text": [
      "[Error 3] El sistema no puede encontrar la ruta especificada: u'C:\\\\Users\\\\mgrinberg\\\\Desktop\\\\Mat\\xedas G\\\\EEG\\\\Captain\\\\Emotiv_BTLE'\n",
      "C:\\Users\\MATIAS\\Desktop\\EEG\\Mindjam\n"
     ]
    }
   ],
   "source": [
    "%cd C:\\Users\\mgrinberg\\Desktop\\Matías G\\EEG\\Captain\\Emotiv_BTLE"
   ]
  },
  {
   "cell_type": "code",
   "execution_count": 2,
   "metadata": {},
   "outputs": [],
   "source": [
    "#\n",
    "#  Designed for Bluetooth LE on Windows 8/10\n",
    "#\n",
    "#  Author:  CaptainSmiley\n",
    "#\n",
    "#  Resource:  Warren of project CyKIT\n",
    "#\n",
    "\n",
    "try:\n",
    "    import sys\n",
    "    import binascii\n",
    "    import os\n",
    "    import struct\n",
    "    from time import *\n",
    "    from ctypes import *\n",
    "    from base64 import b64decode\n",
    "    from ctypes.wintypes import HANDLE, ULONG, DWORD, USHORT\n",
    "    from Crypto.Cipher import AES\n",
    "    from Crypto.Util.Padding import pad\n",
    "except (ImportError, IOError) as e:\n",
    "    print(\"ERROR:  %s\" % e)\n",
    "    sys.exit(-1)\n",
    "\n",
    "\n",
    "DEVICE_UUID = \"{81072f40-9f3d-11e3-a9dc-0002a5d5c51b}\"\n",
    "DATA_UUID = \"{81072f41-9f3d-11e3-a9dc-0002a5d5c51b}\"\n",
    "MEMS_UUID = \"{81072f42-9f3d-11e3-a9dc-0002a5d5c51b}\"\n",
    "\n",
    "BLOCK_SIZE = 16\n",
    "\n",
    "cipher = \"\"\n",
    "start_recording = False"
   ]
  },
  {
   "cell_type": "code",
   "execution_count": 3,
   "metadata": {},
   "outputs": [],
   "source": [
    "class BTH_LE_GATT_CHARACTERISTIC_VALUE(Structure):\n",
    "    _fields_ = [\n",
    "        (\"DataSize\", c_ulong),\n",
    "        (\"Data\", c_ubyte * 20)]         #  this is a hack - 20-bytes should be dynamic, not preallocated\n",
    "\n",
    "#  -------------------------------------------------------------------\n",
    "#\n",
    "#  FUNCTION:  DataCallback (fill_queue Mati G)\n",
    "#  PURPOSE:   This function is called whenever the bluetooth device sends new\n",
    "#             information from the headset\n",
    "#\n",
    "\n",
    "_CB_FUNC_ = CFUNCTYPE(None, BTH_LE_GATT_CHARACTERISTIC_VALUE)"
   ]
  },
  {
   "cell_type": "code",
   "execution_count": 4,
   "metadata": {},
   "outputs": [],
   "source": [
    "            \n",
    "#\n",
    "#  FUNCTION:  PrintLibError\n",
    "#  PURPOSE:   This function is called whenever the bluetooth library has an\n",
    "#             error.  This function replaces the need for Windows-type\n",
    "#             MessageBox messages\n",
    "#\n",
    "\n",
    "_ERR_FUNC_ = CFUNCTYPE(None, c_wchar_p)\n",
    "\n",
    "def PrintLibError(err):\n",
    "    print(str(err));"
   ]
  },
  {
   "cell_type": "code",
   "execution_count": 5,
   "metadata": {},
   "outputs": [],
   "source": [
    "            \n",
    "#\n",
    "#  FUNCTION:  PrintLibError\n",
    "#  PURPOSE:   This function is called whenever the bluetooth library has an\n",
    "#             error.  This function replaces the need for Windows-type\n",
    "#             MessageBox messages\n",
    "#\n",
    "\n",
    "_ERR_FUNC_ = CFUNCTYPE(None, c_wchar_p)\n",
    "\n",
    "def PrintLibError(err):\n",
    "    print(str(err));\n",
    "\n",
    "\n",
    "def RunApp(EEGqueue):\n",
    "    global cipher\n",
    "    \n",
    "    eegDll = cdll.LoadLibrary(os.getcwd() + \"\\\\EEGBtleLib\\\\Win32\\\\Release\\\\Win32EEGBtleLib.dll\")\n",
    "\n",
    "    #  these are the UUIDs of the data streams we want to decrypt\n",
    "    #  uuid_list = [unicode(DATA_UUID), unicode(MEMS_UUID)]\n",
    "    uuid_list = [unicode(DATA_UUID)]\n",
    "    uuid_clist = (c_wchar_p * len(uuid_list))()\n",
    "    uuid_clist[:] = uuid_list\n",
    "\n",
    "    #  set the error callback function to handle lib file errors\n",
    "    err_func = _ERR_FUNC_(PrintLibError)\n",
    "    eegDll.set_error_func(err_func)\n",
    "\n",
    "    #  initialize the dll engine; pass it the UUID of the device we want to connect too\n",
    "    hDev = eegDll.btle_init(unicode(DEVICE_UUID))\n",
    "\n",
    "    #  set the callback function to handle the updates\n",
    "    cb_func = _CB_FUNC_(DataCallback_fill_queue)\n",
    "    eegDll.set_callback_func(cb_func)\n",
    "\n",
    "    #  we get the BTLE device ID from the connected device\n",
    "    name = eegDll.get_bluetooth_id()\n",
    "\n",
    "    print(\"Getting connection info...\")\n",
    "    while_timeout = time() + 10\n",
    "    while c_wchar_p(name).value is None and time() < while_timeout:\n",
    "        name = eegDll.get_bluetooth_id()\n",
    "        sleep(1)\n",
    "\n",
    "    name = c_wchar_p(name).value\n",
    "    name_id = name[name.find(\"(\")+1:name.find(\")\")]\n",
    "    print(\"Connected headset:  %s\" % name)\n",
    "\n",
    "    #  generate the AES decryption key from the device ID\n",
    "    sn = bytearray(name_id.decode(\"hex\"))\n",
    "    k = [sn[-4],sn[-3],sn[-3],sn[-2],sn[-2],sn[-2],sn[-3],sn[-1],sn[-4],sn[-1],sn[-3],sn[-3],sn[-1],sn[-1],sn[-3],sn[-4]]\n",
    "    AES_key = bytes(bytearray(k)) \n",
    "\n",
    "    #print(\"AES key: \" + binascii.hexlify(AES_key) + \"\\n\")\n",
    "\n",
    "    #  initalize the decryption key function\n",
    "    cipher = AES.new(AES_key, AES.MODE_ECB)\n",
    "    \n",
    "    \n",
    "    #  start the data collection; pass it the list of UUID characteristics we are\n",
    "    #  interested in\n",
    "    eegDll.run_data_collection(hDev, uuid_clist)\n",
    "    \n",
    "    for x in range(0, 5):\n",
    "        sleep(0.1)\n",
    "\n",
    "    #  disconnect from the device\n",
    "    eegDll.btle_disconnect(hDev)\n",
    "    print(\"Done\")\n",
    "\n",
    "    return 0"
   ]
  },
  {
   "cell_type": "code",
   "execution_count": 6,
   "metadata": {},
   "outputs": [],
   "source": [
    "def DataCallback_fill_queue(EventOutParameter):\n",
    "    global start_recording, EEGqueue\n",
    "    data = bytearray(EventOutParameter.Data)\n",
    "\n",
    "    #  we want to make sure that our decryption starts with the first of the two btle packets\n",
    "    if start_recording is False:\n",
    "        if data[1] == 0x01:\n",
    "            start_recording = True\n",
    "\n",
    "    #  decrypt the data stream\n",
    "    if start_recording is True:\n",
    "        #print(\"Ciphertext:\\n\" + binascii.hexlify(data))\n",
    "        ciphertext = data[2:18]\n",
    "        #print(\"Adjusted:\\n\" + binascii.hexlify(ciphertext))\n",
    "        data_out = cipher.decrypt(ciphertext)\n",
    "        #print(\"decrypted:\\n\" + binascii.hexlify(data_out) + \"\\n\")\n",
    "        data = []  \n",
    "        for i in range(2, 16, 2):        \n",
    "            value_1 = int(binascii.hexlify(data_out[i]), 16)\n",
    "            value_2 = int(binascii.hexlify(data_out[i+1]), 16)\n",
    "            edk_value = \"%.8f\" % (((value_1 * .128205128205129) + 4201.02564096001) + ((value_2 - 128) * 32.82051289))\n",
    "\n",
    "            if data[1] == 0x01:\n",
    "                data.append((count, edk_value))\n",
    "                #EEG_queue.put((count, edk_value))\n",
    "                #print(\"[%d]: %s\" % (count, edk_value))\n",
    "            if data[1] == 0x02:\n",
    "                data.append((count+8, edk_value))\n",
    "                #EEG_queue.put((count+8, edk_value))\n",
    "                #print(\"[%d]: %s\" % (count+8, edk_value))\n",
    "        \n",
    "        try:\n",
    "            EEG_queue.put(data, block=True, timeout = None)\n",
    "            EEG_queue.task_done()\n",
    "            \n",
    "        except Full:\n",
    "            print \"Filler exiting, timeout/full\"\n",
    "            sleep(0.1)\n",
    "        if n >= limit:\n",
    "            print \"Filler exiting, reached limit - %s\" % limit\n",
    "            sleep(0.1)"
   ]
  },
  {
   "cell_type": "code",
   "execution_count": 2,
   "metadata": {},
   "outputs": [],
   "source": [
    "from multiprocessing import Process, Queue\n",
    "from time import sleep"
   ]
  },
  {
   "cell_type": "code",
   "execution_count": 3,
   "metadata": {},
   "outputs": [],
   "source": [
    "class RealtimeEEG(object):\n",
    "    \"\"\"Recieves realtime data, preprocessing and does something\"\"\"\n",
    "    \n",
    "    def __init__(self, EEGqueue):\n",
    "        # self.sampling_rate = 128  #Hz\n",
    "        # self.number_of_channels = 14\n",
    "        # self.eeg_chunk_size_seconds = 5 #s\n",
    "        # self.eeg_timesteps = sampling_rate*realtime_eeg_in_second\n",
    "        # self.socket_port = 8080\n",
    "        #self.channel_names = \"F3 FC5 AF3 F7 T7 P7 O1 O2 P8 T8 F8 AF4 FC6 F4\"\n",
    "        self.data_queue = data_queue\n",
    "        \n",
    "    def process_data(self):\n",
    "        pass\n",
    "    def put_data(self):\n",
    "        \n",
    "    \n",
    "    def run(self):\n",
    "        processes = [Process(target=self.process_data, args=(self.data_queue,)), Process(target=self.put_data, args=(EEG_queue,))]\n",
    "\n",
    "        for t in threads:\n",
    "            t.start()\n",
    "\n",
    "        for t in threads:\n",
    "            t.join()\n",
    "            \n",
    "        def do_fft(self, data):\n",
    "            fs = 512                                \n",
    "            data = np.random.uniform(0, 100, 1024)  # 2 sec of data b/w 0.0-100.0\n",
    "\n",
    "            # Get real amplitudes of FFT (only in postive frequencies)\n",
    "            fft_vals = np.absolute(np.fft.rfft(data))\n",
    "\n",
    "            # Get frequencies for amplitudes in Hz\n",
    "            fft_freq = np.fft.rfftfreq(len(data), 1.0/fs)\n",
    "\n",
    "            eeg_bands = {'Delta': (0, 4),\n",
    "                         'Theta': (4, 8),\n",
    "                         'Alpha': (8, 12),\n",
    "                         'Beta': (12, 30),\n",
    "                         'Gamma': (30, 45)}\n",
    "\n",
    "            # Take the mean of the fft amplitude for each EEG band\n",
    "            eeg_band_fft = dict()\n",
    "            for band in eeg_bands:  \n",
    "                freq_ix = np.where((fft_freq >= eeg_bands[band][0]) & \n",
    "                                   (fft_freq <= eeg_bands[band][1]))[0]\n",
    "                eeg_band_fft[band] = np.mean(fft_vals[freq_ix])\n",
    "\n",
    "        \n",
    "    def plot_bands(self):\n",
    "        # Plot the data (using pandas here cause it's easy)\n",
    "        import pandas as pd\n",
    "        df = pd.DataFrame(columns=['band', 'val'])\n",
    "        df['band'] = eeg_bands.keys()\n",
    "        df['val'] = [eeg_band_fft[band] for band in eeg_bands]\n",
    "        ax = df.plot.bar(x='band', y='val', legend=False)\n",
    "        ax.set_xlabel(\"EEG band\")\n",
    "        ax.set_ylabel(\"Mean band Amplitude\")\n",
    "    \n",
    "    def mne_plot(self):\n",
    "        pass\n",
    "    def compute_features(self):\n",
    "        pass\n",
    "    def predict():\n",
    "        pass"
   ]
  },
  {
   "cell_type": "code",
   "execution_count": 1,
   "metadata": {},
   "outputs": [
    {
     "ename": "NameError",
     "evalue": "name 'Queue' is not defined",
     "output_type": "error",
     "traceback": [
      "\u001b[1;31m---------------------------------------------------------------------------\u001b[0m",
      "\u001b[1;31mNameError\u001b[0m                                 Traceback (most recent call last)",
      "\u001b[1;32m<ipython-input-1-1ef315d51748>\u001b[0m in \u001b[0;36m<module>\u001b[1;34m()\u001b[0m\n\u001b[1;32m----> 1\u001b[1;33m \u001b[0mdata_queue\u001b[0m \u001b[1;33m=\u001b[0m \u001b[0mQueue\u001b[0m\u001b[1;33m(\u001b[0m\u001b[1;33m)\u001b[0m\u001b[1;33m\u001b[0m\u001b[0m\n\u001b[0m",
      "\u001b[1;31mNameError\u001b[0m: name 'Queue' is not defined"
     ]
    }
   ],
   "source": [
    "data_queue = Queue()"
   ]
  },
  {
   "cell_type": "code",
   "execution_count": 19,
   "metadata": {},
   "outputs": [],
   "source": [
    "EEG = RealtimeEEG(EEG_queue)"
   ]
  },
  {
   "cell_type": "code",
   "execution_count": 20,
   "metadata": {},
   "outputs": [
    {
     "ename": "NameError",
     "evalue": "global name 'threads' is not defined",
     "output_type": "error",
     "traceback": [
      "\u001b[1;31m---------------------------------------------------------------------------\u001b[0m",
      "\u001b[1;31mNameError\u001b[0m                                 Traceback (most recent call last)",
      "\u001b[1;32m<ipython-input-20-81fc807197c4>\u001b[0m in \u001b[0;36m<module>\u001b[1;34m()\u001b[0m\n\u001b[1;32m----> 1\u001b[1;33m \u001b[0mEEG\u001b[0m\u001b[1;33m.\u001b[0m\u001b[0mrun\u001b[0m\u001b[1;33m(\u001b[0m\u001b[1;33m)\u001b[0m\u001b[1;33m\u001b[0m\u001b[0m\n\u001b[0m",
      "\u001b[1;32m<ipython-input-17-156b13e9f158>\u001b[0m in \u001b[0;36mrun\u001b[1;34m(self)\u001b[0m\n\u001b[0;32m     17\u001b[0m         \u001b[0mprocesses\u001b[0m \u001b[1;33m=\u001b[0m \u001b[1;33m[\u001b[0m\u001b[0mProcess\u001b[0m\u001b[1;33m(\u001b[0m\u001b[0mtarget\u001b[0m\u001b[1;33m=\u001b[0m\u001b[0mself\u001b[0m\u001b[1;33m.\u001b[0m\u001b[0mprocess_data\u001b[0m\u001b[1;33m,\u001b[0m \u001b[0margs\u001b[0m\u001b[1;33m=\u001b[0m\u001b[1;33m(\u001b[0m\u001b[0mEEG_queue\u001b[0m\u001b[1;33m,\u001b[0m\u001b[1;33m)\u001b[0m\u001b[1;33m)\u001b[0m\u001b[1;33m,\u001b[0m \u001b[0mProcess\u001b[0m\u001b[1;33m(\u001b[0m\u001b[0mtarget\u001b[0m\u001b[1;33m=\u001b[0m\u001b[0mRunApp\u001b[0m\u001b[1;33m,\u001b[0m \u001b[0margs\u001b[0m\u001b[1;33m=\u001b[0m\u001b[1;33m(\u001b[0m\u001b[0mEEG_queue\u001b[0m\u001b[1;33m,\u001b[0m\u001b[1;33m)\u001b[0m\u001b[1;33m)\u001b[0m\u001b[1;33m]\u001b[0m\u001b[1;33m\u001b[0m\u001b[0m\n\u001b[0;32m     18\u001b[0m \u001b[1;33m\u001b[0m\u001b[0m\n\u001b[1;32m---> 19\u001b[1;33m         \u001b[1;32mfor\u001b[0m \u001b[0mt\u001b[0m \u001b[1;32min\u001b[0m \u001b[0mthreads\u001b[0m\u001b[1;33m:\u001b[0m\u001b[1;33m\u001b[0m\u001b[0m\n\u001b[0m\u001b[0;32m     20\u001b[0m             \u001b[0mt\u001b[0m\u001b[1;33m.\u001b[0m\u001b[0mstart\u001b[0m\u001b[1;33m(\u001b[0m\u001b[1;33m)\u001b[0m\u001b[1;33m\u001b[0m\u001b[0m\n\u001b[0;32m     21\u001b[0m \u001b[1;33m\u001b[0m\u001b[0m\n",
      "\u001b[1;31mNameError\u001b[0m: global name 'threads' is not defined"
     ]
    }
   ],
   "source": [
    "EEG.run()"
   ]
  },
  {
   "cell_type": "code",
   "execution_count": null,
   "metadata": {},
   "outputs": [],
   "source": []
  }
 ],
 "metadata": {
  "kernelspec": {
   "display_name": "Python [conda env:.conda-aa]",
   "language": "python",
   "name": "conda-env-.conda-aa-py"
  },
  "language_info": {
   "codemirror_mode": {
    "name": "ipython",
    "version": 2
   },
   "file_extension": ".py",
   "mimetype": "text/x-python",
   "name": "python",
   "nbconvert_exporter": "python",
   "pygments_lexer": "ipython2",
   "version": "2.7.16"
  }
 },
 "nbformat": 4,
 "nbformat_minor": 4
}
