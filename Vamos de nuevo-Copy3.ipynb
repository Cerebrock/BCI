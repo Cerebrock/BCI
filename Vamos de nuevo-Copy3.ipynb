{
 "cells": [
  {
   "cell_type": "markdown",
   "metadata": {
    "slideshow": {
     "slide_type": "slide"
    }
   },
   "source": [
    "# BCI\n",
    "\n"
   ]
  },
  {
   "cell_type": "code",
   "execution_count": 1,
   "metadata": {},
   "outputs": [],
   "source": [
    "# Elegimos acciones...\n",
    "# eeg...\n",
    "# machine learning...\n",
    "# ..."
   ]
  },
  {
   "cell_type": "code",
   "execution_count": 2,
   "metadata": {
    "slideshow": {
     "slide_type": "skip"
    }
   },
   "outputs": [],
   "source": [
    "import warnings\n",
    "warnings.simplefilter(action='ignore', category=FutureWarning)\n",
    "warnings.simplefilter(action='ignore', category=DeprecationWarning)"
   ]
  },
  {
   "cell_type": "code",
   "execution_count": 4,
   "metadata": {
    "slideshow": {
     "slide_type": "slide"
    }
   },
   "outputs": [],
   "source": [
    "from BCI import *"
   ]
  },
  {
   "cell_type": "code",
   "execution_count": 5,
   "metadata": {
    "slideshow": {
     "slide_type": "slide"
    }
   },
   "outputs": [],
   "source": [
    "# vamos a recolectar 20 datos de 2 segundos para cada acción\n",
    "\n",
    "acciones = 2\n",
    "s = 2\n",
    "n = 20\n",
    "electrodos = 'F3 FC5 AF3 F7 T7 P7 O1 O2 P8 T8 F8 AF4 FC6 F4'.split()\n",
    "muestreo = 128\n",
    "n_paquetes = s * muestreo"
   ]
  },
  {
   "cell_type": "code",
   "execution_count": 6,
   "metadata": {
    "slideshow": {
     "slide_type": "slide"
    }
   },
   "outputs": [],
   "source": [
    "# donde vamos guardando los datos\n",
    "EEG_datos = deque(maxlen=muestreo*1)\n",
    "GYRO_datos = deque(maxlen=muestreo*1)\n",
    "\n",
    "bt = BluetoothIO(EEG_datos, GYRO_datos)\n",
    "eeg = EEG(EEG_datos, GYRO_datos)\n",
    "\n",
    "mouse = WinMouse()\n",
    "w,h = mouse.width, mouse.height"
   ]
  },
  {
   "cell_type": "code",
   "execution_count": 66,
   "metadata": {
    "slideshow": {
     "slide_type": "slide"
    }
   },
   "outputs": [
    {
     "data": {
      "text/plain": [
       "array([[4156.66666646, 4166.41025621, 4178.97435884, 4184.10256397,\n",
       "        4161.15384595, 4159.87179467, 4164.87179467, 4143.58974339,\n",
       "        4171.66666653, 4167.82051262, 4181.02564089, 4191.41025628,\n",
       "        4220.38461532, 4911.53846293]])"
      ]
     },
     "execution_count": 66,
     "metadata": {},
     "output_type": "execute_result"
    }
   ],
   "source": [
    "dato = eeg.get_data(1)\n",
    "dato"
   ]
  },
  {
   "cell_type": "code",
   "execution_count": 58,
   "metadata": {
    "slideshow": {
     "slide_type": "slide"
    }
   },
   "outputs": [
    {
     "name": "stdout",
     "output_type": "stream",
     "text": [
      "\n",
      "F3 4158.5 \n",
      "FC5 4153.1 \n",
      "AF3 4156.9 \n",
      "F7 4158.1 \n",
      "T7 4156.9 \n",
      "P7 4155.5 \n",
      "O1 4156.5 \n",
      "O2 4172.9 \n",
      "P8 4169.2 \n",
      "T8 4169.4 \n",
      "F8 4173.3 \n",
      "AF4 4187.7 \n",
      "FC6 4226.9 \n",
      "F4 4945.8\n"
     ]
    }
   ],
   "source": [
    "print(*[f\"\\n{electrodos[i]} {dato[0][i]:.1f}\" for i in range(len(electrodos))])"
   ]
  },
  {
   "cell_type": "markdown",
   "metadata": {
    "slideshow": {
     "slide_type": "subslide"
    }
   },
   "source": [
    "<img src=\"https://www.researchgate.net/profile/Marta_Molinas/publication/317579079/figure/fig2/AS:505059093868544@1497426879320/The-electrode-positions-for-the-Emotiv-EPOC-Headset.png\" width=\"300\"/>"
   ]
  },
  {
   "cell_type": "code",
   "execution_count": 68,
   "metadata": {
    "slideshow": {
     "slide_type": "slide"
    }
   },
   "outputs": [
    {
     "name": "stdout",
     "output_type": "stream",
     "text": [
      "**********\n",
      " Acción 1\n",
      "**********\n",
      "0 1 2 3 4 5 6 7 8 9 10 11 12 13 14 15 16 17 18 19 \n",
      "\n",
      "**********\n",
      " Acción 2\n",
      "**********\n",
      "0 1 2 3 4 5 6 7 8 9 10 11 12 13 14 15 16 17 18 19 \n",
      "\n"
     ]
    }
   ],
   "source": [
    "# Ponerse el Emotiv y prepararse para realizar 2 acciones elegidas\n",
    "\n",
    "X = []\n",
    "\n",
    "for a in range(1, acciones+1):\n",
    "    print(f'*'*10)\n",
    "    print(f' Acción {a}')\n",
    "    print(f'*'*10)\n",
    "    \n",
    "    sleep(2)\n",
    "    for i in range(n):\n",
    "        dato = eeg.get_data(muestreo * s)\n",
    "        X.append(dato)\n",
    "        print(i, end=' ')\n",
    "        \n",
    "    print('\\n')"
   ]
  },
  {
   "cell_type": "code",
   "execution_count": 69,
   "metadata": {
    "slideshow": {
     "slide_type": "skip"
    }
   },
   "outputs": [],
   "source": [
    "X_ = X.copy()\n",
    "X = np.array(X)"
   ]
  },
  {
   "cell_type": "code",
   "execution_count": 70,
   "metadata": {
    "slideshow": {
     "slide_type": "subslide"
    }
   },
   "outputs": [],
   "source": [
    "y = np.concatenate([np.zeros(n), np.ones(n)])"
   ]
  },
  {
   "cell_type": "code",
   "execution_count": 71,
   "metadata": {
    "slideshow": {
     "slide_type": "subslide"
    }
   },
   "outputs": [
    {
     "name": "stdout",
     "output_type": "stream",
     "text": [
      "Muestra train: (32, 256, 14)\n",
      "Muestra test (8, 256, 14)\n"
     ]
    }
   ],
   "source": [
    "X_train, X_test, y_train, y_test = train_test_split(X, y, test_size=0.2)\n",
    "\n",
    "print('Muestra train:', X_train.shape)\n",
    "print('Muestra test', X_test.shape)"
   ]
  },
  {
   "cell_type": "code",
   "execution_count": 55,
   "metadata": {
    "slideshow": {
     "slide_type": "subslide"
    }
   },
   "outputs": [],
   "source": [
    "X_train = Covariances().transform(X_train)\n",
    "X_test = Covariances().transform(X_test)"
   ]
  },
  {
   "cell_type": "code",
   "execution_count": 56,
   "metadata": {
    "slideshow": {
     "slide_type": "slide"
    }
   },
   "outputs": [
    {
     "name": "stdout",
     "output_type": "stream",
     "text": [
      "Classification accuracy: 0.500000 / Chance level: 0.500000\n"
     ]
    }
   ],
   "source": [
    "# (trials, channels, samples)\n",
    "\n",
    "n_components=3\n",
    "clf = make_pipeline(XdawnCovariances(n_components),\n",
    "                    TangentSpace(metric='riemann'),\n",
    "                    CatBoostClassifier(iterations=20,\n",
    "                                       silent=True,\n",
    "                                       learning_rate=None,\n",
    "                                       depth=None)\n",
    "                   #LogisticRegression(solver='lbfgs')\n",
    "                   )\n",
    "\n",
    "clf.fit(X_train, y_train)\n",
    "preds = clf.predict(X_test)\n",
    "acc = np.mean(preds == y_test)\n",
    "\n",
    "class_balance = np.mean(y_test == y_test[0])\n",
    "class_balance = max(class_balance, 1. - class_balance)\n",
    "print(\"Classification accuracy: %f / Chance level: %f\" % (acc, class_balance))"
   ]
  },
  {
   "cell_type": "code",
   "execution_count": null,
   "metadata": {},
   "outputs": [],
   "source": []
  },
  {
   "cell_type": "code",
   "execution_count": null,
   "metadata": {},
   "outputs": [],
   "source": [
    "plot_confusion_matrix(preds, y_test, ['A', 'B']);"
   ]
  },
  {
   "cell_type": "code",
   "execution_count": 363,
   "metadata": {},
   "outputs": [],
   "source": [
    "# Plot "
   ]
  },
  {
   "cell_type": "code",
   "execution_count": null,
   "metadata": {},
   "outputs": [],
   "source": []
  },
  {
   "cell_type": "code",
   "execution_count": 80,
   "metadata": {},
   "outputs": [],
   "source": [
    "from matplotlib import pyplot as plt\n",
    "from matplotlib.animation import FuncAnimation\n",
    "from IPython.display import HTML"
   ]
  },
  {
   "cell_type": "code",
   "execution_count": 82,
   "metadata": {},
   "outputs": [],
   "source": [
    "def do_fft(data, fs = 256):\n",
    "    # Get real amplitudes of FFT (only in postive frequencies)\n",
    "    fft_vals = np.absolute(np.fft.rfft(data))\n",
    "\n",
    "    # Get frequencies for amplitudes in Hz\n",
    "    fft_freq = np.fft.rfftfreq(len(data), 1.0/fs)\n",
    "\n",
    "    eeg_bands = {'Delta': (0, 4),\n",
    "                 'Theta': (4, 8),\n",
    "                 'Alpha': (8, 12),\n",
    "                 'Beta': (12, 30),\n",
    "                 'Gamma': (30, 45)}\n",
    "\n",
    "    # Take the mean of the fft amplitude for each EEG band\n",
    "    eeg_band_fft = dict()\n",
    "    for band in eeg_bands:  \n",
    "        freq_ix = np.where((fft_freq >= eeg_bands[band][0]) & \n",
    "                           (fft_freq <= eeg_bands[band][1]))[0]\n",
    "        eeg_band_fft[band] = np.mean(fft_vals[freq_ix])\n",
    "    return eeg_band_fft\n",
    "        \n",
    "def plot_bands(eeg_bands):\n",
    "    df = pd.DataFrame(columns=['band', 'val'])\n",
    "    df['band'] = eeg_bands.keys()\n",
    "    df['val'] = [eeg_bands[band] for band in eeg_bands]\n",
    "    ax = df.plot.bar(x='band', y='val', legend=False)\n",
    "    ax.set_xlabel(\"EEG band\")\n",
    "    ax.set_ylabel(\"Mean band Amplitude\") "
   ]
  },
  {
   "cell_type": "code",
   "execution_count": 91,
   "metadata": {},
   "outputs": [
    {
     "data": {
      "application/vnd.jupyter.widget-view+json": {
       "model_id": "de22abedd88a42eb8b325830c6eb7e50",
       "version_major": 2,
       "version_minor": 0
      },
      "text/plain": [
       "Canvas(toolbar=Toolbar(toolitems=[('Home', 'Reset original view', 'home', 'home'), ('Back', 'Back to previous …"
      ]
     },
     "metadata": {},
     "output_type": "display_data"
    }
   ],
   "source": [
    "%matplotlib widget\n",
    "\n",
    "fig = plt.figure()\n",
    "ax = plt.axes()\n",
    "line, = ax.plot([], [], lw=3)\n",
    "\n",
    "def init():\n",
    "    line.set_data([], [])\n",
    "    return line,\n",
    "\n",
    "def animate(i):\n",
    "    dato = eeg.get_data(muestreo * s)\n",
    "#    bandas = do_fft(sample[:,0]).items()\n",
    "#    x = range(len(bandas))\n",
    "#    y = [i[1] for i in bandas]\n",
    "    x = range(dato.shape[0])\n",
    "    y = dato[:,0]\n",
    "    \n",
    "    line.set_data(x, y)\n",
    "    return line,\n",
    "\n",
    "anim = FuncAnimation(fig, animate, init_func=init,\n",
    "                               frames=200, interval=100, blit=True)"
   ]
  },
  {
   "cell_type": "raw",
   "metadata": {},
   "source": [
    "%matplotlib widget\n",
    "\n",
    "channels = len(electrodos)\n",
    "fig, axes = plt.subplots(channels, 1)\n",
    "for n in range(len(axes)):\n",
    "    axes[n].plot(X[:,n]);"
   ]
  },
  {
   "cell_type": "markdown",
   "metadata": {},
   "source": [
    "# Mouse con Gyro"
   ]
  },
  {
   "cell_type": "code",
   "execution_count": null,
   "metadata": {},
   "outputs": [],
   "source": [
    "step = 5\n",
    "c = 0\n",
    "\n",
    "print('Baseline')\n",
    "sleep(2)\n",
    "data = scientist.get_gyro(fs*3)\n",
    "\n",
    "mz,mx,my,*_ = np.mean(data, axis=0)\n",
    "sz,sx,sy,*_ = np.std(data, axis=0) * 0.2\n",
    "\n",
    "print('Start')\n",
    "screen.move_mouse(w//2, h//2)\n",
    "\n",
    "for i in range(500):\n",
    "    data = scientist.get_gyro(5)\n",
    "    nz,nx,ny,*_ = np.mean(data, axis=0)\n",
    "        \n",
    "    print('Med ', mz,mx,my)\n",
    "    print('Desv ',sz,sx,sy)\n",
    "    print('Val ', nz,nx,ny)\n",
    "    \n",
    "    sleep(0.2)\n",
    "    \n",
    "    x, y = screen.get_mouse_position()  \n",
    "    if nx < mx-sx:\n",
    "        print('left')\n",
    "        screen.move_mouse(x-step, y)\n",
    "    elif nx > mx+sx:\n",
    "        print('right')\n",
    "        screen.move_mouse(x+step, y)\n",
    "    if ny < my-sy:\n",
    "        print('down')\n",
    "        screen.move_mouse(x, y-step)\n",
    "    elif ny > my+sy:\n",
    "        screen.move_mouse(x, y+step)        \n",
    "        print('up')\n",
    "    \n",
    "    if c % 20 == 0:\n",
    "        screen.move_mouse(w//2, h//2)\n",
    "        clear_output()\n",
    "        c = 0\n",
    "        \n",
    "    c+=1"
   ]
  },
  {
   "cell_type": "code",
   "execution_count": null,
   "metadata": {},
   "outputs": [],
   "source": []
  },
  {
   "cell_type": "code",
   "execution_count": null,
   "metadata": {},
   "outputs": [],
   "source": []
  },
  {
   "cell_type": "code",
   "execution_count": null,
   "metadata": {},
   "outputs": [],
   "source": []
  },
  {
   "cell_type": "code",
   "execution_count": 54,
   "metadata": {},
   "outputs": [
    {
     "data": {
      "image/png": "[encoded data removed]",
      "text/plain": [
       "<Figure size 576x288 with 1 Axes>"
      ]
     },
     "metadata": {},
     "output_type": "display_data"
    }
   ],
   "source": [
    "fig, ax1 = plt.subplots(1, 1, figsize=(8, 4))\n",
    "P, freqs, t, im = plt.specgram(data[:,1], NFFT=128, Fs=fs, noverlap = 64, cmap=plt.cm.jet)\n",
    "ax1.set_title('Short-Time Fourier Transform', fontsize=18)\n",
    "ax1.set_xlabel('Time [s]')\n",
    "ax1.set_ylabel('Frequency [Hz]')\n",
    "ax1.set_xlim(t[0], t[-1])\n",
    "plt.tight_layout()"
   ]
  },
  {
   "cell_type": "code",
   "execution_count": 27,
   "metadata": {},
   "outputs": [
    {
     "ename": "NameError",
     "evalue": "name 't' is not defined",
     "output_type": "error",
     "traceback": [
      "\u001b[1;31m---------------------------------------------------------------------------\u001b[0m",
      "\u001b[1;31mNameError\u001b[0m                                 Traceback (most recent call last)",
      "\u001b[1;32m<ipython-input-27-f4e505754db7>\u001b[0m in \u001b[0;36m<module>\u001b[1;34m\u001b[0m\n\u001b[0;32m      2\u001b[0m \u001b[0mget_ipython\u001b[0m\u001b[1;33m(\u001b[0m\u001b[1;33m)\u001b[0m\u001b[1;33m.\u001b[0m\u001b[0mrun_line_magic\u001b[0m\u001b[1;33m(\u001b[0m\u001b[1;34m'matplotlib'\u001b[0m\u001b[1;33m,\u001b[0m \u001b[1;34m'widget'\u001b[0m\u001b[1;33m)\u001b[0m\u001b[1;33m\u001b[0m\u001b[1;33m\u001b[0m\u001b[0m\n\u001b[0;32m      3\u001b[0m \u001b[1;33m\u001b[0m\u001b[0m\n\u001b[1;32m----> 4\u001b[1;33m \u001b[0mt2\u001b[0m\u001b[1;33m,\u001b[0m \u001b[0mfreqs2\u001b[0m \u001b[1;33m=\u001b[0m \u001b[0mnp\u001b[0m\u001b[1;33m.\u001b[0m\u001b[0mmeshgrid\u001b[0m\u001b[1;33m(\u001b[0m\u001b[0mt\u001b[0m\u001b[1;33m,\u001b[0m \u001b[0mfreqs\u001b[0m\u001b[1;33m)\u001b[0m\u001b[1;33m\u001b[0m\u001b[1;33m\u001b[0m\u001b[0m\n\u001b[0m\u001b[0;32m      5\u001b[0m \u001b[1;33m\u001b[0m\u001b[0m\n\u001b[0;32m      6\u001b[0m \u001b[0mfig\u001b[0m \u001b[1;33m=\u001b[0m \u001b[0mplt\u001b[0m\u001b[1;33m.\u001b[0m\u001b[0mfigure\u001b[0m\u001b[1;33m(\u001b[0m\u001b[0mfigsize\u001b[0m\u001b[1;33m=\u001b[0m\u001b[1;33m(\u001b[0m\u001b[1;36m10\u001b[0m\u001b[1;33m,\u001b[0m \u001b[1;36m6\u001b[0m\u001b[1;33m)\u001b[0m\u001b[1;33m)\u001b[0m\u001b[1;33m\u001b[0m\u001b[1;33m\u001b[0m\u001b[0m\n",
      "\u001b[1;31mNameError\u001b[0m: name 't' is not defined"
     ]
    }
   ],
   "source": [
    "from mpl_toolkits.mplot3d import Axes3D\n",
    "%matplotlib widget\n",
    "\n",
    "t2, freqs2 = np.meshgrid(t, freqs)\n",
    "\n",
    "fig = plt.figure(figsize=(10, 6))\n",
    "ax = fig.gca(projection='3d')\n",
    "surf = ax.plot_surface(t2, freqs2, P, rstride=1, cstride=1, cmap=plt.cm.jet,\n",
    "                       linewidth=0, antialiased=False)\n",
    "\n",
    "ax.set_xlim(t[0], t[-1])\n",
    "ax.set_ylim(0, 500)\n",
    "ax.set_zlim(np.min(P), np.max(P))\n",
    "ax.set_xlabel('Time [s]', fontsize=12)\n",
    "ax.set_ylabel('Frequency [Hz]', fontsize=12)\n",
    "ax.set_zlabel('Power', fontsize=12)\n",
    "ax.set_title('Short-Time Fourier Transform', fontsize=16, y=1.04)\n",
    "ax.view_init(30, 60)"
   ]
  },
  {
   "cell_type": "code",
   "execution_count": 34,
   "metadata": {},
   "outputs": [],
   "source": [
    "def do_fft(data, fs = 256):\n",
    "    # Get real amplitudes of FFT (only in postive frequencies)\n",
    "    fft_vals = np.absolute(np.fft.rfft(data))\n",
    "\n",
    "    # Get frequencies for amplitudes in Hz\n",
    "    fft_freq = np.fft.rfftfreq(len(data), 1.0/fs)\n",
    "\n",
    "    eeg_bands = {'Delta': (0, 4),\n",
    "                 'Theta': (4, 8),\n",
    "                 'Alpha': (8, 12),\n",
    "                 'Beta': (12, 30),\n",
    "                 'Gamma': (30, 45)}\n",
    "\n",
    "    # Take the mean of the fft amplitude for each EEG band\n",
    "    eeg_band_fft = dict()\n",
    "    for band in eeg_bands:  \n",
    "        freq_ix = np.where((fft_freq >= eeg_bands[band][0]) & \n",
    "                           (fft_freq <= eeg_bands[band][1]))[0]\n",
    "        eeg_band_fft[band] = np.mean(fft_vals[freq_ix])\n",
    "    return eeg_band_fft\n",
    "        \n",
    "def plot_bands(eeg_bands):\n",
    "    df = pd.DataFrame(columns=['band', 'val'])\n",
    "    df['band'] = eeg_bands.keys()\n",
    "    df['val'] = [eeg_bands[band] for band in eeg_bands]\n",
    "    ax = df.plot.bar(x='band', y='val', legend=False)\n",
    "    ax.set_xlabel(\"EEG band\")\n",
    "    ax.set_ylabel(\"Mean band Amplitude\") "
   ]
  },
  {
   "cell_type": "code",
   "execution_count": null,
   "metadata": {},
   "outputs": [],
   "source": []
  },
  {
   "cell_type": "code",
   "execution_count": null,
   "metadata": {},
   "outputs": [],
   "source": []
  },
  {
   "cell_type": "code",
   "execution_count": null,
   "metadata": {},
   "outputs": [],
   "source": []
  },
  {
   "cell_type": "code",
   "execution_count": null,
   "metadata": {},
   "outputs": [],
   "source": [
    "data = worker()"
   ]
  },
  {
   "cell_type": "markdown",
   "metadata": {},
   "source": [
    "https://github.com/CSNLWigner/emotiv-epoc/tree/master/python/notebook\n",
    "https://github.com/vlawhern/arl-eegmodels\n",
    "https://github.com/renaudfv/MusicWaves\n",
    "https://github.com/HackTheBrain/EEG-in-Virtual-reality/tree/master/python-pure-data\n",
    "https://github.com/louay-hesham/Brain-Computer-Interface\n",
    "https://github.com/jajcayn/EEG-pd-sonification/blob/master/eegOSC_class.py\n",
    "https://github.com/faturita/python-nerv\n",
    "https://github.com/xribene/Emokit_Epoc_GUI\n",
    "https://github.com/eegsynth/eegsynth/blob/master/doc/module-overview.md\n",
    "https://github.com/mne-tools/mne-python\n",
    "https://github.com/dalequark/emotivExperiment\n",
    "\n",
    "https://plot.ly/ipython-notebooks/mne-tutorial/\n",
    "\n",
    "https://discordapp.com/welcome/382301373062053888/382301373062053893/0\n",
    "https://github.com/signal11/hidapi\n"
   ]
  },
  {
   "cell_type": "raw",
   "metadata": {},
   "source": [
    "#python CyKIT 127.0.0.1 54123 6\n",
    "[Counter]  byte 1\n",
    "[EEG(16)/GYRO(32)]  byte 2\n",
    "[ gyro-z ] byte 3, byte 4 \n",
    "[ gyro-x ] byte 5, byte 6 \n",
    "[ gyro-y ] byte 7, byte 8\n",
    "[ acc-z ]  byte 9, byte 10\n",
    "[  acc-x ] byte 11, byte 12\n",
    "[ acc-y ]  byte 13, byte 14\n",
    "[ mag-z ] byte 15, byte  16\n",
    "[ mag-x ] byte 17, byte 18\n",
    " bytes 19-30 (not used/not gyro related) \n",
    "[ mag-y ] \n",
    "\n",
    "F3,  FC5, AF3, F7, T7, P7, O1, O2, P8, T8, F8, AF4, FC6, F4\n",
    "#\"F3 FC5 AF3 F7 T7 P7 O1 O2 P8 T8 F8 AF4 FC6 F4\""
   ]
  },
  {
   "cell_type": "raw",
   "metadata": {},
   "source": [
    "fig = plt.gcf()\n",
    "fig.canvas.draw()\n",
    "\n",
    "while True:\n",
    "    data = headset.get_eeg(10)\n",
    "    ddata = np.diff(data,axis=0)\n",
    "    fig.clear()\n",
    "    plt.plot(ddata[:,2])\n",
    "    fig.canvas.draw()\n",
    "    fig.show()\n",
    "    plt.pause(0.5)\n",
    "    clear_output(wait=True)\n",
    "#    dz,dx,dy,*dw = np.median(ddata, axis=0)\n",
    "#    dz,dx,dy\n",
    "#    sleep(2)"
   ]
  },
  {
   "cell_type": "code",
   "execution_count": null,
   "metadata": {},
   "outputs": [],
   "source": [
    "#        for e in range(len(electrodos)):\n",
    "#            w = dato[:,e]\n",
    "            \n",
    "#        w = butter_bandpass_filter(w, 8.0, 15.0, fs, order=6)\n",
    "#        freqs = np.sum(np.abs(fft(y)[0:fs//2]))        \n"
   ]
  }
 ],
 "metadata": {
  "celltoolbar": "Slideshow",
  "kernelspec": {
   "display_name": "Python 3",
   "language": "python",
   "name": "python3"
  },
  "language_info": {
   "codemirror_mode": {
    "name": "ipython",
    "version": 3
   },
   "file_extension": ".py",
   "mimetype": "text/x-python",
   "name": "python",
   "nbconvert_exporter": "python",
   "pygments_lexer": "ipython3",
   "version": "3.7.3"
  }
 },
 "nbformat": 4,
 "nbformat_minor": 4
}
