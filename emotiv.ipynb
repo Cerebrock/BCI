{
 "cells": [
  {
   "cell_type": "code",
   "execution_count": 2,
   "metadata": {},
   "outputs": [
    {
     "name": "stdout",
     "output_type": "stream",
     "text": [
      "Initializing Emokit...\n",
      "Initializing Reader Thread...\n"
     ]
    },
    {
     "ename": "AttributeError",
     "evalue": "'NoneType' object has no attribute 'sensors'",
     "output_type": "error",
     "traceback": [
      "\u001b[1;31m---------------------------------------------------------------------------\u001b[0m",
      "\u001b[1;31mAttributeError\u001b[0m                            Traceback (most recent call last)",
      "\u001b[1;32m<ipython-input-2-c2686cdbef18>\u001b[0m in \u001b[0;36m<module>\u001b[1;34m\u001b[0m\n\u001b[0;32m     44\u001b[0m \u001b[1;32mif\u001b[0m \u001b[0m__name__\u001b[0m \u001b[1;33m==\u001b[0m \u001b[1;34m\"__main__\"\u001b[0m\u001b[1;33m:\u001b[0m\u001b[1;33m\u001b[0m\u001b[1;33m\u001b[0m\u001b[0m\n\u001b[0;32m     45\u001b[0m     \u001b[1;32mwith\u001b[0m \u001b[0mEmotiv\u001b[0m\u001b[1;33m(\u001b[0m\u001b[1;33m)\u001b[0m \u001b[1;32mas\u001b[0m \u001b[0mheadset\u001b[0m\u001b[1;33m:\u001b[0m\u001b[1;33m\u001b[0m\u001b[1;33m\u001b[0m\u001b[0m\n\u001b[1;32m---> 46\u001b[1;33m         \u001b[0mmain\u001b[0m\u001b[1;33m(\u001b[0m\u001b[1;33m)\u001b[0m\u001b[1;33m\u001b[0m\u001b[1;33m\u001b[0m\u001b[0m\n\u001b[0m",
      "\u001b[1;32m<ipython-input-2-c2686cdbef18>\u001b[0m in \u001b[0;36mmain\u001b[1;34m()\u001b[0m\n\u001b[0;32m     30\u001b[0m         \u001b[0mupdated\u001b[0m \u001b[1;33m=\u001b[0m \u001b[1;32mFalse\u001b[0m\u001b[1;33m\u001b[0m\u001b[1;33m\u001b[0m\u001b[0m\n\u001b[0;32m     31\u001b[0m         \u001b[0mpacket\u001b[0m \u001b[1;33m=\u001b[0m \u001b[0mheadset\u001b[0m\u001b[1;33m.\u001b[0m\u001b[0mdequeue\u001b[0m\u001b[1;33m(\u001b[0m\u001b[1;33m)\u001b[0m\u001b[1;33m\u001b[0m\u001b[1;33m\u001b[0m\u001b[0m\n\u001b[1;32m---> 32\u001b[1;33m         \u001b[1;32mif\u001b[0m \u001b[0mabs\u001b[0m\u001b[1;33m(\u001b[0m\u001b[0mpacket\u001b[0m\u001b[1;33m.\u001b[0m\u001b[0msensors\u001b[0m\u001b[1;33m[\u001b[0m\u001b[1;34m'X'\u001b[0m\u001b[1;33m]\u001b[0m\u001b[1;33m[\u001b[0m\u001b[1;34m'value'\u001b[0m\u001b[1;33m]\u001b[0m\u001b[1;33m)\u001b[0m \u001b[1;33m>\u001b[0m \u001b[1;36m1\u001b[0m\u001b[1;33m:\u001b[0m\u001b[1;33m\u001b[0m\u001b[1;33m\u001b[0m\u001b[0m\n\u001b[0m\u001b[0;32m     33\u001b[0m             \u001b[0mcursor_x\u001b[0m \u001b[1;33m-=\u001b[0m \u001b[0mpacket\u001b[0m\u001b[1;33m.\u001b[0m\u001b[0msensors\u001b[0m\u001b[1;33m[\u001b[0m\u001b[1;34m'X'\u001b[0m\u001b[1;33m]\u001b[0m\u001b[1;33m[\u001b[0m\u001b[1;34m'value'\u001b[0m\u001b[1;33m]\u001b[0m\u001b[1;33m\u001b[0m\u001b[1;33m\u001b[0m\u001b[0m\n\u001b[0;32m     34\u001b[0m             \u001b[0mupdated\u001b[0m \u001b[1;33m=\u001b[0m \u001b[1;32mTrue\u001b[0m\u001b[1;33m\u001b[0m\u001b[1;33m\u001b[0m\u001b[0m\n",
      "\u001b[1;31mAttributeError\u001b[0m: 'NoneType' object has no attribute 'sensors'"
     ]
    },
    {
     "name": "stdout",
     "output_type": "stream",
     "text": [
      "Reader detected serial number: UD20171026002D80\n",
      "Initializing Writer Thread(s)...\n",
      "Initializing Crypto Thread...\n",
      "Initializing Output Thread...\n"
     ]
    },
    {
     "name": "stderr",
     "output_type": "stream",
     "text": [
      "Exception in thread Thread-17:\n",
      "Traceback (most recent call last):\n",
      "  File \"C:\\ProgramData\\Anaconda3\\lib\\threading.py\", line 917, in _bootstrap_inner\n",
      "    self.run()\n",
      "  File \"C:\\ProgramData\\Anaconda3\\lib\\threading.py\", line 865, in run\n",
      "    self._target(*self._args, **self._kwargs)\n",
      "  File \"C:\\ProgramData\\Anaconda3\\lib\\site-packages\\emokit\\decrypter.py\", line 49, in run\n",
      "    cipher = self.new_cipher(self.verbose)\n",
      "  File \"C:\\ProgramData\\Anaconda3\\lib\\site-packages\\emokit\\decrypter.py\", line 120, in new_cipher\n",
      "    return AES.new(crypto_key(self.serial_number, self.is_research, verbose), AES.MODE_ECB, iv)\n",
      "  File \"C:\\ProgramData\\Anaconda3\\lib\\site-packages\\Crypto\\Cipher\\AES.py\", line 94, in new\n",
      "    return AESCipher(key, *args, **kwargs)\n",
      "  File \"C:\\ProgramData\\Anaconda3\\lib\\site-packages\\Crypto\\Cipher\\AES.py\", line 59, in __init__\n",
      "    blockalgo.BlockAlgo.__init__(self, _AES, key, *args, **kwargs)\n",
      "  File \"C:\\ProgramData\\Anaconda3\\lib\\site-packages\\Crypto\\Cipher\\blockalgo.py\", line 141, in __init__\n",
      "    self._cipher = factory.new(key, *args, **kwargs)\n",
      "ValueError: ECB mode does not use IV\n",
      "\n"
     ]
    },
    {
     "name": "stdout",
     "output_type": "stream",
     "text": [
      "Reader stopping...\n",
      "Reader stopped...\n",
      "Reader stopping...\n",
      "Reader stopped...\n"
     ]
    }
   ],
   "source": [
    "#https://github.com/openyou/emokit/blob/master/python/mouse_control.py\n",
    "\n",
    "import platform\n",
    "import time\n",
    "\n",
    "import ctypes\n",
    "class WinMouse:\n",
    "    def __init__(self):\n",
    "        user32 = ctypes.windll.user32\n",
    "        self.width = user32.GetSystemMetrics(0)\n",
    "        self.height = user32.GetSystemMetrics(1)\n",
    "\n",
    "    def click(self, x, y):\n",
    "        ctypes.windll.user32.SetCursorPos(x, y)\n",
    "        ctypes.windll.user32.mouse_event(2, 0, 0, 0, 0) # left down\n",
    "        ctypes.windll.user32.mouse_event(4, 0, 0, 0, 0) # left up\n",
    "\n",
    "    def move_mouse(self, x, y):\n",
    "        ctypes.windll.user32.SetCursorPos(x, y)\n",
    "\n",
    "\n",
    "def main():\n",
    "    screen = WinMouse()\n",
    "    width = screen.width\n",
    "    height = screen.height\n",
    "\n",
    "    cursor_x, cursor_y = width // 2, height // 2\n",
    "    while True:\n",
    "        updated = False\n",
    "        packet = headset.dequeue()\n",
    "        if abs(packet.sensors['X']['value']) > 1:\n",
    "            cursor_x -= packet.sensors['X']['value']\n",
    "            updated = True\n",
    "        if abs(packet.sensors['Y']['value']) > 1:\n",
    "            cursor_y += packet.sensors['Y']['value']\n",
    "            updated = True\n",
    "        cursor_x = max(0, min(cursor_x, width))\n",
    "        cursor_y = max(0, min(cursor_y, height))\n",
    "        if updated:\n",
    "            screen.move_mouse(cursor_x, cursor_y)\n",
    "        time.sleep(0.001)\n",
    "\n",
    "if __name__ == \"__main__\":\n",
    "    with Emotiv() as headset:\n",
    "        main()"
   ]
  },
  {
   "cell_type": "code",
   "execution_count": null,
   "metadata": {},
   "outputs": [],
   "source": []
  },
  {
   "cell_type": "code",
   "execution_count": 34,
   "metadata": {},
   "outputs": [],
   "source": [
    "def do_fft(data, fs = 256):\n",
    "    # Get real amplitudes of FFT (only in postive frequencies)\n",
    "    fft_vals = np.absolute(np.fft.rfft(data))\n",
    "\n",
    "    # Get frequencies for amplitudes in Hz\n",
    "    fft_freq = np.fft.rfftfreq(len(data), 1.0/fs)\n",
    "\n",
    "    eeg_bands = {'Delta': (0, 4),\n",
    "                 'Theta': (4, 8),\n",
    "                 'Alpha': (8, 12),\n",
    "                 'Beta': (12, 30),\n",
    "                 'Gamma': (30, 45)}\n",
    "\n",
    "    # Take the mean of the fft amplitude for each EEG band\n",
    "    eeg_band_fft = dict()\n",
    "    for band in eeg_bands:  \n",
    "        freq_ix = np.where((fft_freq >= eeg_bands[band][0]) & \n",
    "                           (fft_freq <= eeg_bands[band][1]))[0]\n",
    "        eeg_band_fft[band] = np.mean(fft_vals[freq_ix])\n",
    "    return eeg_band_fft\n",
    "        \n",
    "def plot_bands(eeg_bands):\n",
    "    df = pd.DataFrame(columns=['band', 'val'])\n",
    "    df['band'] = eeg_bands.keys()\n",
    "    df['val'] = [eeg_bands[band] for band in eeg_bands]\n",
    "    ax = df.plot.bar(x='band', y='val', legend=False)\n",
    "    ax.set_xlabel(\"EEG band\")\n",
    "    ax.set_ylabel(\"Mean band Amplitude\") "
   ]
  },
  {
   "cell_type": "raw",
   "metadata": {},
   "source": [
    "https://github.com/CSNLWigner/emotiv-epoc/tree/master/python/notebook\n",
    "https://github.com/vlawhern/arl-eegmodels\n",
    "https://github.com/renaudfv/MusicWaves\n",
    "https://github.com/HackTheBrain/EEG-in-Virtual-reality/tree/master/python-pure-data\n",
    "https://github.com/louay-hesham/Brain-Computer-Interface\n",
    "https://github.com/jajcayn/EEG-pd-sonification/blob/master/eegOSC_class.py\n",
    "https://github.com/faturita/python-nerv\n",
    "https://github.com/xribene/Emokit_Epoc_GUI\n",
    "https://github.com/eegsynth/eegsynth/blob/master/doc/module-overview.md\n",
    "https://github.com/mne-tools/mne-python\n",
    "https://github.com/dalequark/emotivExperiment\n",
    "\n",
    "https://plot.ly/ipython-notebooks/mne-tutorial/\n",
    "\n",
    "https://discordapp.com/welcome/382301373062053888/382301373062053893/0\n",
    "https://github.com/signal11/hidapivb"
   ]
  },
  {
   "cell_type": "raw",
   "metadata": {},
   "source": [
    "#python CyKIT 127.0.0.1 54123 6\n",
    "[Counter]  byte 1\n",
    "[EEG(16)/GYRO(32)]  byte 2\n",
    "[ gyro-z ] byte 3, byte 4 \n",
    "[ gyro-x ] byte 5, byte 6 \n",
    "[ gyro-y ] byte 7, byte 8\n",
    "[ acc-z ]  byte 9, byte 10\n",
    "[  acc-x ] byte 11, byte 12\n",
    "[ acc-y ]  byte 13, byte 14\n",
    "[ mag-z ] byte 15, byte  16\n",
    "[ mag-x ] byte 17, byte 18\n",
    " bytes 19-30 (not used/not gyro related) \n",
    "[ mag-y ] \n",
    "\n",
    "F3,  FC5, AF3, F7, T7, P7, O1, O2, P8, T8, F8, AF4, FC6, F4\n",
    "#\"F3 FC5 AF3 F7 T7 P7 O1 O2 P8 T8 F8 AF4 FC6 F4\""
   ]
  },
  {
   "cell_type": "raw",
   "metadata": {},
   "source": [
    "fig = plt.gcf()\n",
    "fig.canvas.draw()\n",
    "\n",
    "while True:\n",
    "    data = headset.get_eeg(10)\n",
    "    ddata = np.diff(data,axis=0)\n",
    "    fig.clear()\n",
    "    plt.plot(ddata[:,2])\n",
    "    fig.canvas.draw()\n",
    "    fig.show()\n",
    "    plt.pause(0.5)\n",
    "    clear_output(wait=True)\n",
    "#    dz,dx,dy,*dw = np.median(ddata, axis=0)\n",
    "#    dz,dx,dy\n",
    "#    sleep(2)"
   ]
  },
  {
   "cell_type": "raw",
   "metadata": {},
   "source": [
    "#        for e in range(len(electrodos)):\n",
    "#            w = dato[:,e]\n",
    "            \n",
    "#        w = butter_bandpass_filter(w, 8.0, 15.0, fs, order=6)\n",
    "#        freqs = np.sum(np.abs(fft(y)[0:fs//2]))        \n"
   ]
  },
  {
   "cell_type": "raw",
   "metadata": {},
   "source": [
    "fig = plt.figure()\n",
    "ax = plt.axes()\n",
    "line, = ax.plot([], [], lw=3)\n",
    "\n",
    "def init():\n",
    "    line.set_data([], [])\n",
    "    return line,\n",
    "\n",
    "def animate(i):\n",
    "    dato = eeg.get_data()\n",
    "#    bandas = do_fft(sample[:,0]).items()\n",
    "#    x = range(len(bandas))\n",
    "#    y = [i[1] for i in bandas]\n",
    "    x = range(dato.shape[0])\n",
    "    y = dato[:,0]\n",
    "    \n",
    "    line.set_data(x, y)\n",
    "    return line,\n",
    "\n",
    "anim = FuncAnimation(fig, animate, init_func=init,\n",
    "                               frames=200, interval=100, blit=True)"
   ]
  },
  {
   "cell_type": "raw",
   "metadata": {},
   "source": [
    "%matplotlib widget\n",
    "\n",
    "channels = len(electrodos)\n",
    "fig, axes = plt.subplots(channels, 1, figsize=(20, 20))\n",
    "lines = [ax.plot([], [], color=(0,0,1))[0] for ax in axes]\n",
    "\n",
    "window=500\n",
    "\n",
    "for i in range(10):\n",
    "    p = eeg.get_data(1)[0]\n",
    "    for n in range(channels):\n",
    "        lines[n].set_ydata(p[n]);\n",
    "        lines[n].set_xdata(np.arange(window))\n",
    "    plt.draw()"
   ]
  },
  {
   "cell_type": "code",
   "execution_count": null,
   "metadata": {},
   "outputs": [],
   "source": [
    "fig, ax = plt.subplots()\n",
    "line, = ax.plot(np.random.randn(100))\n",
    "plt.show(block=False)\n",
    "\n",
    "tstart = time.time()\n",
    "num_plots = 0\n",
    "while time.time()-tstart < 5:\n",
    "    line.set_ydata(np.random.randn(100))\n",
    "    ax.draw_artist(ax.patch)\n",
    "    ax.draw_artist(line)\n",
    "    fig.canvas.update()\n",
    "    fig.canvas.flush_events()\n",
    "    num_plots += 1\n",
    "print(num_plots/5)"
   ]
  },
  {
   "cell_type": "code",
   "execution_count": null,
   "metadata": {},
   "outputs": [],
   "source": [
    "#https://github.com/plcrodrigues/Workshop-MOABB-BCI-Graz-2019/blob/master/presentations/presentation-1-marco-classification.pdf\n"
   ]
  }
 ],
 "metadata": {
  "kernelspec": {
   "display_name": "Python 3",
   "language": "python",
   "name": "python3"
  },
  "language_info": {
   "codemirror_mode": {
    "name": "ipython",
    "version": 3
   },
   "file_extension": ".py",
   "mimetype": "text/x-python",
   "name": "python",
   "nbconvert_exporter": "python",
   "pygments_lexer": "ipython3",
   "version": "3.7.3"
  }
 },
 "nbformat": 4,
 "nbformat_minor": 4
}
